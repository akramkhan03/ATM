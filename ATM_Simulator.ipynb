{
 "cells": [
  {
   "cell_type": "code",
   "execution_count": 14,
   "id": "bec37cee",
   "metadata": {},
   "outputs": [
    {
     "name": "stdout",
     "output_type": "stream",
     "text": [
      "\n",
      "            ***** Welcome To state bank of India ATM Machine *****\n",
      "         \n",
      "Enter Your 4 digits Pin: 5544\n",
      "\n",
      "            Options you can Excercise with us, are:\n",
      "            1) Check the Balance\n",
      "            2) Withdraw Amount\n",
      "            3) Deposit the Money\n",
      "            4) Exit from the ATM\n",
      "         \n",
      "Select Your Transaction from the above options: 3\n",
      "Enter the Deposit Amount: 500000\n",
      "New Balance is : 505000\n"
     ]
    }
   ],
   "source": [
    "import time\n",
    "\n",
    "def atm_simulation():\n",
    "    \n",
    "    balance=5000 # predefined\n",
    "    \n",
    "    print('''\n",
    "            ***** Welcome To state bank of India ATM Machine *****\n",
    "         ''')\n",
    "    \n",
    "    pin=int(input('Enter Your 4 digits Pin: '))\n",
    "    \n",
    "    print('''\n",
    "            Options you can Excercise with us, are:\n",
    "            1) Check the Balance\n",
    "            2) Withdraw Amount\n",
    "            3) Deposit the Money\n",
    "            4) Exit from the ATM\n",
    "         ''')\n",
    "    \n",
    "    choose=int(input('Select Your Transaction from the above options: '))\n",
    "    \n",
    "    if choose==1:\n",
    "        print(f'Available A/C Balance Is {balance}')\n",
    "    elif choose==2:\n",
    "        withdraw=int(input('Enter the Withdrawal Amount: '))\n",
    "        if withdraw<=balance:\n",
    "            balance-=withdraw\n",
    "            print('Please collect the cash and remove the card from the machine')\n",
    "            print(f'Your availabe balance is : {balance}')\n",
    "        else:\n",
    "            print('Insufficient Balance, entered amount is greater than the available balance')\n",
    "    elif choose==3:\n",
    "        amount=int(input('Enter the Deposit Amount: '))\n",
    "        balance+=amount\n",
    "        print(f'New Balance is : {balance}')\n",
    "    elif choose==4:\n",
    "        print('Thank you for using Eduonix ATM,now you will be exited from the ATM Machine')\n",
    "        exit()\n",
    "    else:\n",
    "        time.sleep(5)\n",
    "        print('No Selected Transaction') \n",
    "        exit()\n",
    "    \n",
    "    return   \n",
    "        \n",
    "\n",
    "        \n",
    "if __name__ == \"__main__\":\n",
    "    \n",
    "    atm_simulation()\n",
    "    \n",
    "    # this is executing the code only if the file to be run directly"
   ]
  }
 ],
 "metadata": {
  "kernelspec": {
   "display_name": "Python 3 (ipykernel)",
   "language": "python",
   "name": "python3"
  },
  "language_info": {
   "codemirror_mode": {
    "name": "ipython",
    "version": 3
   },
   "file_extension": ".py",
   "mimetype": "text/x-python",
   "name": "python",
   "nbconvert_exporter": "python",
   "pygments_lexer": "ipython3",
   "version": "3.11.4"
  }
 },
 "nbformat": 4,
 "nbformat_minor": 5
}
